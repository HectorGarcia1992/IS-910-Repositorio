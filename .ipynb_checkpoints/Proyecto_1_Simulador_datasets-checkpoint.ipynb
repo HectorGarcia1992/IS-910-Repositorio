{
 "cells": [
  {
   "cell_type": "code",
   "execution_count": 3,
   "id": "b0426911-a6c7-47f2-acbc-84aa25f33b22",
   "metadata": {},
   "outputs": [],
   "source": [
    "# Prueba 9-7-2024 00:05"
   ]
  },
  {
   "cell_type": "code",
   "execution_count": 36,
   "id": "cd791b9b-1452-41ec-9c53-ed3440c4f841",
   "metadata": {},
   "outputs": [],
   "source": [
    "#importacion  de librerias\n",
    "import numpy as np\n",
    "import pandas as pd\n",
    "import uuid\n",
    "import random \n",
    "from datetime import datetime,timedelta "
   ]
  },
  {
   "cell_type": "code",
   "execution_count": 38,
   "id": "b7a5e3d8-152d-4834-8af6-2fc164ca6384",
   "metadata": {},
   "outputs": [],
   "source": [
    "#funcion para generar IDs Unicos\n",
    "def generate_unique_id():\n",
    "    return str(uuid.uuid4()) \n",
    "    "
   ]
  },
  {
   "cell_type": "code",
   "execution_count": 47,
   "id": "8ed266f6-a0f5-4969-be2f-c2357df5ed42",
   "metadata": {},
   "outputs": [
    {
     "ename": "IndentationError",
     "evalue": "unindent does not match any outer indentation level (<tokenize>, line 18)",
     "output_type": "error",
     "traceback": [
      "\u001b[1;36m  File \u001b[1;32m<tokenize>:18\u001b[1;36m\u001b[0m\n\u001b[1;33m    elif col['type'] == 'date':\u001b[0m\n\u001b[1;37m    ^\u001b[0m\n\u001b[1;31mIndentationError\u001b[0m\u001b[1;31m:\u001b[0m unindent does not match any outer indentation level\n"
     ]
    }
   ],
   "source": [
    "#Creacion de los dataframes\n",
    "\n",
    "def create_DataFrame(Config, existing_dataframe):\n",
    "    columns= config['columns']\n",
    "    data={}\n",
    "    max_length=0\n",
    "\n",
    "#iteracion\n",
    "\n",
    "for col in columns:\n",
    "    if col['Types ']== 'category':\n",
    "        Values = col['Values ']\n",
    "        data[col['Name']] = values * (max_length // len(values)) + values[:max_length % len(values)]\n",
    "        if len(values) > max_length:\n",
    "            max_length = len(values)\n",
    "        elif col['type'] == 'unique':\n",
    "            data[col['name']] = [generate_unique_id() for _ in range(max_length)]\n",
    "         elif col['type'] == 'date': \n",
    "            min_date = datetime.strptime(col['values']['min'], \"%Y-%m-%d\")\n",
    "            max_date = datetime.strptime(col['values']['max'], \"%Y-%m-%d\")\n",
    "            date_range = (max_date - min_date).days\n",
    "            data[col['name']] = [min_date + timedelta(days=i) for i in range(date_range + 1)]\n",
    "            if date_range + 1 > max_length:\n",
    "             max_length = date_range + 1\n",
    "         elif col['type'] == 'foreign':  \n",
    "            dataset_name, column_name = col['values'].split('.')  \n",
    "            if dataset_name not in existing_dataframes: \n",
    "                raise ValueError(f\"Dataset {dataset_name} not found.\")\n",
    "            if column_name not in existing_dataframes[dataset_name].columns: \n",
    "                valid_columns = \", \".join(existing_dataframes[dataset_name].columns)\n",
    "                raise ValueError(f\"Column {column_name} not found in dataset {dataset_name}. Valid columns are: {valid_columns}.\")\n",
    "            foreign_values = existing_dataframes[dataset_name][column_name].unique()  \n",
    "            data[col['name']] = random.choices(foreign_values, k=max_length) \n",
    "    dataframe = pd.DataFrame(data) \n",
    "    return dataframe  \n",
    "\n",
    " # Inicializamos un diccionario para almacenar los dataframes generados.\n",
    "def build_dataframes(config_list):\n",
    "    dataframes = {}  \n",
    "    \n",
    "    for config in config_list: \n",
    "        df_name = config['ds'] \n",
    "        df = create_dataframe(config, dataframes) \n",
    "        dataframes[df_name] = df \n",
    "    \n",
    "    return dataframes  "
   ]
  },
  {
   "cell_type": "code",
   "execution_count": null,
   "id": "0c437ec4-cfc7-48ce-be7f-acdee569803b",
   "metadata": {},
   "outputs": [],
   "source": []
  },
  {
   "cell_type": "code",
   "execution_count": null,
   "id": "a723f794-76ba-4ddb-9ce9-1569caa214de",
   "metadata": {},
   "outputs": [],
   "source": []
  }
 ],
 "metadata": {
  "kernelspec": {
   "display_name": "Python 3 (ipykernel)",
   "language": "python",
   "name": "python3"
  },
  "language_info": {
   "codemirror_mode": {
    "name": "ipython",
    "version": 3
   },
   "file_extension": ".py",
   "mimetype": "text/x-python",
   "name": "python",
   "nbconvert_exporter": "python",
   "pygments_lexer": "ipython3",
   "version": "3.11.7"
  }
 },
 "nbformat": 4,
 "nbformat_minor": 5
}
