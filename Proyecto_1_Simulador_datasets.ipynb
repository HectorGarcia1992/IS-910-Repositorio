{
 "cells": [
  {
   "cell_type": "code",
   "execution_count": 3,
   "id": "b0426911-a6c7-47f2-acbc-84aa25f33b22",
   "metadata": {},
   "outputs": [],
   "source": [
    "# Prueba 9-7-2024 00:05"
   ]
  },
  {
   "cell_type": "code",
   "execution_count": 5,
   "id": "cd791b9b-1452-41ec-9c53-ed3440c4f841",
   "metadata": {},
   "outputs": [],
   "source": [
    "import numpy as np\n",
    "import pandas as pd"
   ]
  },
  {
   "cell_type": "code",
   "execution_count": null,
   "id": "b7a5e3d8-152d-4834-8af6-2fc164ca6384",
   "metadata": {},
   "outputs": [],
   "source": []
  }
 ],
 "metadata": {
  "kernelspec": {
   "display_name": "Python 3 (ipykernel)",
   "language": "python",
   "name": "python3"
  },
  "language_info": {
   "codemirror_mode": {
    "name": "ipython",
    "version": 3
   },
   "file_extension": ".py",
   "mimetype": "text/x-python",
   "name": "python",
   "nbconvert_exporter": "python",
   "pygments_lexer": "ipython3",
   "version": "3.11.7"
  }
 },
 "nbformat": 4,
 "nbformat_minor": 5
}
