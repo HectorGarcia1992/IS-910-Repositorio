{
 "cells": [
  {
   "cell_type": "code",
   "execution_count": null,
   "id": "b0426911-a6c7-47f2-acbc-84aa25f33b22",
   "metadata": {},
   "outputs": [],
   "source": [
    "# Prueba 9-7-2024 00:05"
   ]
  }
 ],
 "metadata": {
  "kernelspec": {
   "display_name": "Python 3 (ipykernel)",
   "language": "python",
   "name": "python3"
  },
  "language_info": {
   "codemirror_mode": {
    "name": "ipython",
    "version": 3
   },
   "file_extension": ".py",
   "mimetype": "text/x-python",
   "name": "python",
   "nbconvert_exporter": "python",
   "pygments_lexer": "ipython3",
   "version": "3.11.7"
  }
 },
 "nbformat": 4,
 "nbformat_minor": 5
}
